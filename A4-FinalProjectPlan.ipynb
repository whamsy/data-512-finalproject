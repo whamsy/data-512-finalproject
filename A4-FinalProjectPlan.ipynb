{
 "cells": [
  {
   "cell_type": "markdown",
   "metadata": {},
   "source": [
    "# DATA 512 - Final Project Plan \n",
    "\n",
    "## Submitted by: Vamsy Atluri \n",
    "\n",
    "<br>\n",
    "\n",
    "### Project Statement - Gender Diversity in Movies\n",
    "\n",
    "I have often found that movies are sometimes the most powerful medium of expression, with their widespread reach to a huge section of  population. It is an industry which often brings topics into social discussion by portraying them on a screen. I come from India where gender stereotypes are more strictly enforced and with a few exceptions, women in movies are more often that not arm candy. At the time, american movies which potrayed strong women characters was a widely different and refreshing experience. \n",
    "\n",
    "Nowadays, the industry and media claim that gender diversity is improving and more and more women are playing major roles than ever. I wish to use the data science skills I have learnt over the past year and analyze this claim in more detail. How gender diverse are movies really in terms of actors on the screen? I will be comparing the total number of actresses to the total number of actors over a time period of the last few decades.\n",
    "\n",
    "### Why is this important?\n",
    "\n",
    "Movies like any other industry are aimed at making money. Companies like Google, Facebook, Amazon etc have started to enforce gender equality requirements trying to make the workplace more diverse than becoming stereotypical male dominated companies. The aim of this project is to see where the movie industry falls when looking at the people acting in them. We obviously know for sure that it was a male dominated industry for several decades and might still be. But has there been a change in this percentage over the years?\n",
    "\n",
    "My hope is that movie makers, historians, film studies majors, cultural scientists and people who study about society at large will be able to derive a variety of answers from this analytic directly or by building on it.\n",
    "\n",
    "### What are the human-centered aspects of this project?\n",
    "\n",
    "The analysis of data which is aimed at seeing how diversity in the movie industry has changed over time and the visualization of the results which shows the trends. \n",
    "\n",
    "### Data Sources\n",
    "\n",
    "The primary sources of data used in this project are from IMDB, which are hosted [here](https://datasets.imdbws.com/). A desciption of the datasets and the various fields are given [here](https://www.imdb.com/interfaces/). \n",
    "\n",
    "Three of the available data sources (title.basics.tsv.gz, name.basic.tsv.gz, title.principals.tsv.gz ) are in my opinion at the moment, sufficent for the purposes of this project and which I plan to work on. If they prove inadequate, I will augment them with the other data sources.\n",
    "\n",
    "### Data Handling Tools\n",
    "\n",
    "Since the data is made available as .tsv (tab separated value) files, pythons [pandas](https://pandas.pydata.org/) library will be useful and adequate to create subset dataframes and perform my analysis. Also the size of these datasets range in a few hundred MBs which makes it convenient to stick to pandas rather than having to use Big Data tools like Hadoop, Pig etc.\n",
    "\n",
    "### Data Structure\n",
    "\n",
    "Each dataset is contained in a gzipped, tab-separated-values (TSV) formatted file in the UTF-8 character set. The first line in each file contains headers that describe what is in each column. A ‘\\N’ is used to denote that a particular field is missing for that title/name --- ([reference](https://www.imdb.com/interfaces/)).\n",
    "\n",
    "I will be showing the structure of all the relevant sources below."
   ]
  },
  {
   "cell_type": "code",
   "execution_count": 12,
   "metadata": {},
   "outputs": [],
   "source": [
    "import gzip\n",
    "import pandas as pd"
   ]
  },
  {
   "cell_type": "code",
   "execution_count": null,
   "metadata": {},
   "outputs": [],
   "source": [
    "movie_title_details = pd.read_table(gzip.open(\"title.basics.tsv.gz\"))\n",
    "actor_details = pd.read_table(gzip.open(\"name.basics.tsv.gz\"))\n",
    "movie_crew_details = pd.read_table(gzip.open(\"title.principals.tsv.gz\"))"
   ]
  },
  {
   "cell_type": "markdown",
   "metadata": {},
   "source": [
    "The title.basics.tsv.gz file lists all the movies in the IMDB database. While the title, genre etc. are not required for my analysis the <b>tconst</b> which is an unique identifier for each movie and the year columns are the most relevant."
   ]
  },
  {
   "cell_type": "code",
   "execution_count": 24,
   "metadata": {},
   "outputs": [
    {
     "data": {
      "text/plain": [
       "(5424031, 9)"
      ]
     },
     "execution_count": 24,
     "metadata": {},
     "output_type": "execute_result"
    }
   ],
   "source": [
    "movie_title_details.shape"
   ]
  },
  {
   "cell_type": "markdown",
   "metadata": {},
   "source": [
    "As seen, there are 5,424,031 movies overall to consider."
   ]
  },
  {
   "cell_type": "code",
   "execution_count": 25,
   "metadata": {},
   "outputs": [
    {
     "data": {
      "text/html": [
       "<div>\n",
       "<style scoped>\n",
       "    .dataframe tbody tr th:only-of-type {\n",
       "        vertical-align: middle;\n",
       "    }\n",
       "\n",
       "    .dataframe tbody tr th {\n",
       "        vertical-align: top;\n",
       "    }\n",
       "\n",
       "    .dataframe thead th {\n",
       "        text-align: right;\n",
       "    }\n",
       "</style>\n",
       "<table border=\"1\" class=\"dataframe\">\n",
       "  <thead>\n",
       "    <tr style=\"text-align: right;\">\n",
       "      <th></th>\n",
       "      <th>tconst</th>\n",
       "      <th>titleType</th>\n",
       "      <th>primaryTitle</th>\n",
       "      <th>originalTitle</th>\n",
       "      <th>isAdult</th>\n",
       "      <th>startYear</th>\n",
       "      <th>endYear</th>\n",
       "      <th>runtimeMinutes</th>\n",
       "      <th>genres</th>\n",
       "    </tr>\n",
       "  </thead>\n",
       "  <tbody>\n",
       "    <tr>\n",
       "      <th>0</th>\n",
       "      <td>tt0000001</td>\n",
       "      <td>short</td>\n",
       "      <td>Carmencita</td>\n",
       "      <td>Carmencita</td>\n",
       "      <td>0</td>\n",
       "      <td>1894</td>\n",
       "      <td>\\N</td>\n",
       "      <td>1</td>\n",
       "      <td>Documentary,Short</td>\n",
       "    </tr>\n",
       "    <tr>\n",
       "      <th>1</th>\n",
       "      <td>tt0000002</td>\n",
       "      <td>short</td>\n",
       "      <td>Le clown et ses chiens</td>\n",
       "      <td>Le clown et ses chiens</td>\n",
       "      <td>0</td>\n",
       "      <td>1892</td>\n",
       "      <td>\\N</td>\n",
       "      <td>5</td>\n",
       "      <td>Animation,Short</td>\n",
       "    </tr>\n",
       "    <tr>\n",
       "      <th>2</th>\n",
       "      <td>tt0000003</td>\n",
       "      <td>short</td>\n",
       "      <td>Pauvre Pierrot</td>\n",
       "      <td>Pauvre Pierrot</td>\n",
       "      <td>0</td>\n",
       "      <td>1892</td>\n",
       "      <td>\\N</td>\n",
       "      <td>4</td>\n",
       "      <td>Animation,Comedy,Romance</td>\n",
       "    </tr>\n",
       "    <tr>\n",
       "      <th>3</th>\n",
       "      <td>tt0000004</td>\n",
       "      <td>short</td>\n",
       "      <td>Un bon bock</td>\n",
       "      <td>Un bon bock</td>\n",
       "      <td>0</td>\n",
       "      <td>1892</td>\n",
       "      <td>\\N</td>\n",
       "      <td>\\N</td>\n",
       "      <td>Animation,Short</td>\n",
       "    </tr>\n",
       "    <tr>\n",
       "      <th>4</th>\n",
       "      <td>tt0000005</td>\n",
       "      <td>short</td>\n",
       "      <td>Blacksmith Scene</td>\n",
       "      <td>Blacksmith Scene</td>\n",
       "      <td>0</td>\n",
       "      <td>1893</td>\n",
       "      <td>\\N</td>\n",
       "      <td>1</td>\n",
       "      <td>Comedy,Short</td>\n",
       "    </tr>\n",
       "  </tbody>\n",
       "</table>\n",
       "</div>"
      ],
      "text/plain": [
       "      tconst titleType            primaryTitle           originalTitle  \\\n",
       "0  tt0000001     short              Carmencita              Carmencita   \n",
       "1  tt0000002     short  Le clown et ses chiens  Le clown et ses chiens   \n",
       "2  tt0000003     short          Pauvre Pierrot          Pauvre Pierrot   \n",
       "3  tt0000004     short             Un bon bock             Un bon bock   \n",
       "4  tt0000005     short        Blacksmith Scene        Blacksmith Scene   \n",
       "\n",
       "   isAdult startYear endYear runtimeMinutes                    genres  \n",
       "0        0      1894      \\N              1         Documentary,Short  \n",
       "1        0      1892      \\N              5           Animation,Short  \n",
       "2        0      1892      \\N              4  Animation,Comedy,Romance  \n",
       "3        0      1892      \\N             \\N           Animation,Short  \n",
       "4        0      1893      \\N              1              Comedy,Short  "
      ]
     },
     "execution_count": 25,
     "metadata": {},
     "output_type": "execute_result"
    }
   ],
   "source": [
    "movie_title_details.head()"
   ]
  },
  {
   "cell_type": "markdown",
   "metadata": {},
   "source": [
    "The type of movie is also important to elminate some types of movies like short movies, video games etc."
   ]
  },
  {
   "cell_type": "code",
   "execution_count": 27,
   "metadata": {},
   "outputs": [
    {
     "data": {
      "text/plain": [
       "array(['short', 'movie', 'tvMovie', 'tvSeries', 'tvEpisode', 'tvShort',\n",
       "       'tvMiniSeries', 'tvSpecial', 'video', 'videoGame'], dtype=object)"
      ]
     },
     "execution_count": 27,
     "metadata": {},
     "output_type": "execute_result"
    }
   ],
   "source": [
    "movie_title_details.titleType.unique()"
   ]
  },
  {
   "cell_type": "markdown",
   "metadata": {},
   "source": [
    "The name.basics.tsv.gz file lists all the professionals in the IMDB database. We will be using the primaryProfession column to filter only entries that have actor/actress as the first entry. Each entry has a unique identifier <b>nconst</b>."
   ]
  },
  {
   "cell_type": "code",
   "execution_count": 28,
   "metadata": {},
   "outputs": [
    {
     "data": {
      "text/plain": [
       "(8973383, 6)"
      ]
     },
     "execution_count": 28,
     "metadata": {},
     "output_type": "execute_result"
    }
   ],
   "source": [
    "actor_details.shape"
   ]
  },
  {
   "cell_type": "code",
   "execution_count": 20,
   "metadata": {},
   "outputs": [
    {
     "data": {
      "text/html": [
       "<div>\n",
       "<style scoped>\n",
       "    .dataframe tbody tr th:only-of-type {\n",
       "        vertical-align: middle;\n",
       "    }\n",
       "\n",
       "    .dataframe tbody tr th {\n",
       "        vertical-align: top;\n",
       "    }\n",
       "\n",
       "    .dataframe thead th {\n",
       "        text-align: right;\n",
       "    }\n",
       "</style>\n",
       "<table border=\"1\" class=\"dataframe\">\n",
       "  <thead>\n",
       "    <tr style=\"text-align: right;\">\n",
       "      <th></th>\n",
       "      <th>nconst</th>\n",
       "      <th>primaryName</th>\n",
       "      <th>birthYear</th>\n",
       "      <th>deathYear</th>\n",
       "      <th>primaryProfession</th>\n",
       "      <th>knownForTitles</th>\n",
       "    </tr>\n",
       "  </thead>\n",
       "  <tbody>\n",
       "    <tr>\n",
       "      <th>0</th>\n",
       "      <td>nm0000001</td>\n",
       "      <td>Fred Astaire</td>\n",
       "      <td>1899</td>\n",
       "      <td>1987</td>\n",
       "      <td>soundtrack,actor,miscellaneous</td>\n",
       "      <td>tt0050419,tt0072308,tt0043044,tt0053137</td>\n",
       "    </tr>\n",
       "    <tr>\n",
       "      <th>1</th>\n",
       "      <td>nm0000002</td>\n",
       "      <td>Lauren Bacall</td>\n",
       "      <td>1924</td>\n",
       "      <td>2014</td>\n",
       "      <td>actress,soundtrack</td>\n",
       "      <td>tt0117057,tt0037382,tt0071877,tt0038355</td>\n",
       "    </tr>\n",
       "    <tr>\n",
       "      <th>2</th>\n",
       "      <td>nm0000003</td>\n",
       "      <td>Brigitte Bardot</td>\n",
       "      <td>1934</td>\n",
       "      <td>\\N</td>\n",
       "      <td>actress,soundtrack,producer</td>\n",
       "      <td>tt0059956,tt0057345,tt0049189,tt0054452</td>\n",
       "    </tr>\n",
       "    <tr>\n",
       "      <th>3</th>\n",
       "      <td>nm0000004</td>\n",
       "      <td>John Belushi</td>\n",
       "      <td>1949</td>\n",
       "      <td>1982</td>\n",
       "      <td>actor,writer,soundtrack</td>\n",
       "      <td>tt0072562,tt0080455,tt0078723,tt0077975</td>\n",
       "    </tr>\n",
       "    <tr>\n",
       "      <th>4</th>\n",
       "      <td>nm0000005</td>\n",
       "      <td>Ingmar Bergman</td>\n",
       "      <td>1918</td>\n",
       "      <td>2007</td>\n",
       "      <td>writer,director,actor</td>\n",
       "      <td>tt0060827,tt0050986,tt0050976,tt0083922</td>\n",
       "    </tr>\n",
       "  </tbody>\n",
       "</table>\n",
       "</div>"
      ],
      "text/plain": [
       "      nconst      primaryName birthYear deathYear  \\\n",
       "0  nm0000001     Fred Astaire      1899      1987   \n",
       "1  nm0000002    Lauren Bacall      1924      2014   \n",
       "2  nm0000003  Brigitte Bardot      1934        \\N   \n",
       "3  nm0000004     John Belushi      1949      1982   \n",
       "4  nm0000005   Ingmar Bergman      1918      2007   \n",
       "\n",
       "                primaryProfession                           knownForTitles  \n",
       "0  soundtrack,actor,miscellaneous  tt0050419,tt0072308,tt0043044,tt0053137  \n",
       "1              actress,soundtrack  tt0117057,tt0037382,tt0071877,tt0038355  \n",
       "2     actress,soundtrack,producer  tt0059956,tt0057345,tt0049189,tt0054452  \n",
       "3         actor,writer,soundtrack  tt0072562,tt0080455,tt0078723,tt0077975  \n",
       "4           writer,director,actor  tt0060827,tt0050986,tt0050976,tt0083922  "
      ]
     },
     "execution_count": 20,
     "metadata": {},
     "output_type": "execute_result"
    }
   ],
   "source": [
    "actor_details.head()"
   ]
  },
  {
   "cell_type": "markdown",
   "metadata": {},
   "source": [
    "The title.principals.tsv.gz file brings the two files above together by listing each movie and its crew as a list of entries with the unique identifiers tconst and nconst identifying each tuple."
   ]
  },
  {
   "cell_type": "code",
   "execution_count": 21,
   "metadata": {},
   "outputs": [
    {
     "data": {
      "text/html": [
       "<div>\n",
       "<style scoped>\n",
       "    .dataframe tbody tr th:only-of-type {\n",
       "        vertical-align: middle;\n",
       "    }\n",
       "\n",
       "    .dataframe tbody tr th {\n",
       "        vertical-align: top;\n",
       "    }\n",
       "\n",
       "    .dataframe thead th {\n",
       "        text-align: right;\n",
       "    }\n",
       "</style>\n",
       "<table border=\"1\" class=\"dataframe\">\n",
       "  <thead>\n",
       "    <tr style=\"text-align: right;\">\n",
       "      <th></th>\n",
       "      <th>tconst</th>\n",
       "      <th>ordering</th>\n",
       "      <th>nconst</th>\n",
       "      <th>category</th>\n",
       "      <th>job</th>\n",
       "      <th>characters</th>\n",
       "    </tr>\n",
       "  </thead>\n",
       "  <tbody>\n",
       "    <tr>\n",
       "      <th>0</th>\n",
       "      <td>tt0000001</td>\n",
       "      <td>1</td>\n",
       "      <td>nm1588970</td>\n",
       "      <td>self</td>\n",
       "      <td>\\N</td>\n",
       "      <td>[\"Herself\"]</td>\n",
       "    </tr>\n",
       "    <tr>\n",
       "      <th>1</th>\n",
       "      <td>tt0000001</td>\n",
       "      <td>2</td>\n",
       "      <td>nm0005690</td>\n",
       "      <td>director</td>\n",
       "      <td>\\N</td>\n",
       "      <td>\\N</td>\n",
       "    </tr>\n",
       "    <tr>\n",
       "      <th>2</th>\n",
       "      <td>tt0000001</td>\n",
       "      <td>3</td>\n",
       "      <td>nm0374658</td>\n",
       "      <td>cinematographer</td>\n",
       "      <td>director of photography</td>\n",
       "      <td>\\N</td>\n",
       "    </tr>\n",
       "    <tr>\n",
       "      <th>3</th>\n",
       "      <td>tt0000002</td>\n",
       "      <td>1</td>\n",
       "      <td>nm0721526</td>\n",
       "      <td>director</td>\n",
       "      <td>\\N</td>\n",
       "      <td>\\N</td>\n",
       "    </tr>\n",
       "    <tr>\n",
       "      <th>4</th>\n",
       "      <td>tt0000002</td>\n",
       "      <td>2</td>\n",
       "      <td>nm1335271</td>\n",
       "      <td>composer</td>\n",
       "      <td>\\N</td>\n",
       "      <td>\\N</td>\n",
       "    </tr>\n",
       "  </tbody>\n",
       "</table>\n",
       "</div>"
      ],
      "text/plain": [
       "      tconst  ordering     nconst         category                      job  \\\n",
       "0  tt0000001         1  nm1588970             self                       \\N   \n",
       "1  tt0000001         2  nm0005690         director                       \\N   \n",
       "2  tt0000001         3  nm0374658  cinematographer  director of photography   \n",
       "3  tt0000002         1  nm0721526         director                       \\N   \n",
       "4  tt0000002         2  nm1335271         composer                       \\N   \n",
       "\n",
       "    characters  \n",
       "0  [\"Herself\"]  \n",
       "1           \\N  \n",
       "2           \\N  \n",
       "3           \\N  \n",
       "4           \\N  "
      ]
     },
     "execution_count": 21,
     "metadata": {},
     "output_type": "execute_result"
    }
   ],
   "source": [
    "movie_crew_details.head()"
   ]
  },
  {
   "cell_type": "markdown",
   "metadata": {},
   "source": [
    "The category column can be used to filter only actors and actresses."
   ]
  },
  {
   "cell_type": "code",
   "execution_count": 30,
   "metadata": {},
   "outputs": [
    {
     "data": {
      "text/plain": [
       "array(['self', 'director', 'cinematographer', 'composer', 'producer',\n",
       "       'editor', 'actor', 'actress', 'writer', 'production_designer',\n",
       "       'archive_footage', 'archive_sound'], dtype=object)"
      ]
     },
     "execution_count": 30,
     "metadata": {},
     "output_type": "execute_result"
    }
   ],
   "source": [
    "movie_crew_details.category.unique()"
   ]
  },
  {
   "cell_type": "markdown",
   "metadata": {},
   "source": [
    "### Gender limitations"
   ]
  },
  {
   "cell_type": "markdown",
   "metadata": {},
   "source": [
    "As listed on the IMDB guidelines page for gender [here](https://help.imdb.com/article/contribution/filmography-credits/cast-acting-credits-guidelines/GH3JZC74FVYKKFMD#gender), only acting credits are seaprated by gender.\n",
    "\n",
    "The classification is binary, only actors and actresses are the available types. But the page also lists that <b> each listing is made based the '<u>individual's chosen gender</u>'</b>. While this is not inclusive of people who do not identify with the male/female classification, this is the best dataset I could find that does classify poeple based on their chosen gender."
   ]
  },
  {
   "cell_type": "markdown",
   "metadata": {},
   "source": [
    "### Limitations of the analysis"
   ]
  },
  {
   "cell_type": "markdown",
   "metadata": {},
   "source": [
    "Once again, due to the nature of the dataset gender information can only be obtained for actors and actresses but not for other people in the crew like directors, producers, cinematographers etc.\n",
    "\n",
    "Hence the project scope will be limited only to actors and actresses in front of the camera rather than those working behind the scenes."
   ]
  },
  {
   "cell_type": "markdown",
   "metadata": {},
   "source": [
    "### Conclusion\n",
    "\n",
    "While this project and analysis will not prove to be as exhaustive or definitive as past works on analyzing gender diversity, most of which use the Bechdel Test (like [this](http://poly-graph.co/bechdel/) one, the scope is different in the fact that we treat the movie industry as more of workplace for people.\n",
    "\n",
    "The aim is compare pure numbers of employment of people who come on the screen, extras, side actors included. Regular companies often claim to have a [diverse workforce](https://informationisbeautiful.net/visualizations/diversity-in-tech/) in terms of gender even if this diversity is restricted to lower rungs of the organization and does not extend to the upper tiers which have the major decision makers.\n",
    "\n",
    "By extending this same rule to the movie industry, I wish to see if they perform any better."
   ]
  },
  {
   "cell_type": "markdown",
   "metadata": {},
   "source": [
    "### Licensing\n",
    "\n",
    "As stated on this [page](https://www.imdb.com/interfaces/), the datasets provide by IMDB can be used for personal and non-commercial use. \n",
    "\n",
    "Local copies of the data can also be stored.\n",
    "\n",
    "IMDB prohibits data mining, robots, screen scraping, or similar data gathering and extraction tools. None of these techniques have been used to access the data, which has been downloaded from IMDB's public dataset [link](https://datasets.imdbws.com/)\n",
    "\n",
    "More information about non-commerical licensing is given on the IMDB [website](https://help.imdb.com/article/imdb/general-information/can-i-use-imdb-data-in-my-software/G5JTRESSHJBBHTGX?pf_rd_m=A2FGELUUNOQJNL&pf_rd_p=3aefe545-f8d3-4562-976a-e5eb47d1bb18&pf_rd_r=BMZ4YZDQZXG5J9Y3H7RJ&pf_rd_s=center-1&pf_rd_t=60601&pf_rd_i=interfaces&ref_=fea_mn_lk1#)."
   ]
  },
  {
   "cell_type": "markdown",
   "metadata": {},
   "source": [
    "### References\n",
    "\n",
    "A list of references I used in creating this report, both subject matter related as well as technical knowlegde related.\n",
    "\n",
    "1. https://womenintvfilm.sdsu.edu/files/2014-15_Boxed_In_Report.pdf\n",
    "\n",
    "2. https://informationisbeautiful.net/visualizations/diversity-in-tech/\n",
    "\n",
    "3. http://poly-graph.co/bechdel/\n",
    "\n",
    "4. https://www.imdb.com/interfaces/\n",
    "\n",
    "5. https://help.imdb.com/article/imdb/general-information/can-i-use-imdb-data-in-my-software/G5JTRESSHJBBHTGX?pf_rd_m=A2FGELUUNOQJNL&pf_rd_p=3aefe545-f8d3-4562-976a-e5eb47d1bb18&pf_rd_r=BMZ4YZDQZXG5J9Y3H7RJ&pf_rd_s=center-1&pf_rd_t=60601&pf_rd_i=interfaces&ref_=fea_mn_lk1#\n",
    "\n",
    "6. https://datasets.imdbws.com/\n",
    "\n",
    "7. https://help.imdb.com/article/contribution/filmography-credits/cast-acting-credits-guidelines/GH3JZC74FVYKKFMD#gender\n",
    "\n",
    "8. https://github.com/adam-p/markdown-here/wiki/Markdown-Cheatsheet\n",
    "\n",
    "9. https://pandas.pydata.org/pandas-docs/stable/generated/pandas.read_table.html"
   ]
  }
 ],
 "metadata": {
  "kernelspec": {
   "display_name": "Python 3",
   "language": "python",
   "name": "python3"
  },
  "language_info": {
   "codemirror_mode": {
    "name": "ipython",
    "version": 3
   },
   "file_extension": ".py",
   "mimetype": "text/x-python",
   "name": "python",
   "nbconvert_exporter": "python",
   "pygments_lexer": "ipython3",
   "version": "3.6.5"
  }
 },
 "nbformat": 4,
 "nbformat_minor": 2
}
